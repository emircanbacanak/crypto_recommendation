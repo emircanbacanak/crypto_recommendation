{
  "nbformat": 4,
  "nbformat_minor": 0,
  "metadata": {
    "colab": {
      "provenance": [],
      "authorship_tag": "ABX9TyOZ++5+kxAguPvAWN3zcEey"
    },
    "kernelspec": {
      "name": "python3",
      "display_name": "Python 3"
    },
    "language_info": {
      "name": "python"
    }
  },
  "cells": [
    {
      "cell_type": "code",
      "source": [
        "pip install tulipy\n"
      ],
      "metadata": {
        "id": "6shq793bOcr-",
        "colab": {
          "base_uri": "https://localhost:8080/"
        },
        "outputId": "1dfecc15-8559-4c5d-d05c-1d8b9248b00f"
      },
      "execution_count": 2,
      "outputs": [
        {
          "output_type": "stream",
          "name": "stdout",
          "text": [
            "Collecting tulipy\n",
            "  Downloading tulipy-0.4.0.tar.gz (110 kB)\n",
            "\u001b[2K     \u001b[90m━━━━━━━━━━━━━━━━━━━━━━━━━━━━━━━━━━━━━━━━\u001b[0m \u001b[32m110.3/110.3 kB\u001b[0m \u001b[31m1.3 MB/s\u001b[0m eta \u001b[36m0:00:00\u001b[0m\n",
            "\u001b[?25h  Installing build dependencies ... \u001b[?25l\u001b[?25hdone\n",
            "  Getting requirements to build wheel ... \u001b[?25l\u001b[?25hdone\n",
            "  Preparing metadata (pyproject.toml) ... \u001b[?25l\u001b[?25hdone\n",
            "Requirement already satisfied: numpy in /usr/local/lib/python3.10/dist-packages (from tulipy) (1.25.2)\n",
            "Building wheels for collected packages: tulipy\n",
            "  Building wheel for tulipy (pyproject.toml) ... \u001b[?25l\u001b[?25hdone\n",
            "  Created wheel for tulipy: filename=tulipy-0.4.0-cp310-cp310-linux_x86_64.whl size=289864 sha256=3a170a55c46ed7e1ed3c1bf55f7b524837021e48f7f93e6e148ae2f07ee3a9f5\n",
            "  Stored in directory: /root/.cache/pip/wheels/0a/f1/a7/d402b06d5d6c3fb6270a782341d4753dcd963a00fdde512b07\n",
            "Successfully built tulipy\n",
            "Installing collected packages: tulipy\n",
            "Successfully installed tulipy-0.4.0\n"
          ]
        }
      ]
    },
    {
      "cell_type": "code",
      "source": [
        "# @title Varsayılan başlık metni { run: \"auto\" }\n",
        "import pandas as pd\n",
        "import numpy as np\n",
        "import tulipy as ti\n",
        "import yfinance as yf\n",
        "from datetime import datetime\n",
        "\n",
        "# Veriyi indir\n",
        "start = \"2022-01-01\"\n",
        "end = datetime.now().strftime('%Y-%m-%d')  # Bugünün tarihini al\n",
        "data = yf.download([\"BTC-USD\"], start=start, end=end)\n",
        "\n",
        "# RSI hesapla\n",
        "rsi_period = 14\n",
        "rsi_values = ti.rsi(data['Close'].values, period=rsi_period)\n",
        "\n",
        "# RSI değerlerini bir pandas Serisi'ne dönüştür ve data['RSI'] sütununa ata\n",
        "data['RSI'] = pd.Series(rsi_values, index=data.index[-len(rsi_values):])\n",
        "\n",
        "# Al/Sat sinyallerini oluştur\n",
        "data['Buy_Signal'] = (data['RSI'] < 30)  # RSI 30'un altındaysa al\n",
        "data['Sell_Signal'] = (data['RSI'] > 70)  # RSI 70'in üzerindeyse sat\n",
        "\n",
        "# Sadece 'Buy_Signal' veya 'Sell_Signal' sütunları True olan satırları filtrele\n",
        "filtered_data = data[(data['Buy_Signal']) | (data['Sell_Signal'])]\n",
        "\n",
        "print(filtered_data)\n"
      ],
      "metadata": {
        "colab": {
          "base_uri": "https://localhost:8080/"
        },
        "id": "SmooZdwPKTJc",
        "outputId": "d3fb86f9-70a5-4905-edef-7314c5d1f958"
      },
      "execution_count": 3,
      "outputs": [
        {
          "output_type": "stream",
          "name": "stderr",
          "text": [
            "\r[*********************100%%**********************]  1 of 1 completed"
          ]
        },
        {
          "output_type": "stream",
          "name": "stdout",
          "text": [
            "                    Open          High           Low         Close  \\\n",
            "Date                                                                 \n",
            "2022-01-15  43101.898438  43724.671875  42669.035156  43177.398438   \n",
            "2022-01-16  43172.039062  43436.808594  42691.023438  43113.878906   \n",
            "2022-01-17  43118.121094  43179.390625  41680.320312  42250.550781   \n",
            "2022-01-18  42250.074219  42534.402344  41392.214844  42375.632812   \n",
            "2022-01-19  42374.039062  42478.304688  41242.914062  41744.328125   \n",
            "...                  ...           ...           ...           ...   \n",
            "2024-03-10  68500.257812  70005.203125  68239.976562  69019.789062   \n",
            "2024-03-11  69020.546875  72850.710938  67194.882812  72123.906250   \n",
            "2024-03-12  72125.125000  72825.656250  68728.851562  71481.289062   \n",
            "2024-03-13  71482.117188  73637.476562  71334.093750  73083.500000   \n",
            "2024-03-14  73079.375000  73750.070312  68563.023438  71396.593750   \n",
            "\n",
            "               Adj Close       Volume        RSI  Buy_Signal  Sell_Signal  \n",
            "Date                                                                       \n",
            "2022-01-15  43177.398438  18371348298  28.817403        True        False  \n",
            "2022-01-16  43113.878906  17902097845  28.633388        True        False  \n",
            "2022-01-17  42250.550781  21690904261  26.185904        True        False  \n",
            "2022-01-18  42375.632812  22417209227  27.157390        True        False  \n",
            "2022-01-19  41744.328125  23091543258  25.344352        True        False  \n",
            "...                  ...          ...        ...         ...          ...  \n",
            "2024-03-10  69019.789062  35683977532  75.823425       False         True  \n",
            "2024-03-11  72123.906250  65716656765  79.224761       False         True  \n",
            "2024-03-12  71481.289062  62554434520  76.815400       False         True  \n",
            "2024-03-13  73083.500000  48212536929  78.565662       False         True  \n",
            "2024-03-14  71396.593750  59594605698  72.370915       False         True  \n",
            "\n",
            "[148 rows x 9 columns]\n"
          ]
        },
        {
          "output_type": "stream",
          "name": "stderr",
          "text": [
            "\n"
          ]
        }
      ]
    }
  ]
}