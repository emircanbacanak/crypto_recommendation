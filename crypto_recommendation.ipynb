{
  "nbformat": 4,
  "nbformat_minor": 0,
  "metadata": {
    "colab": {
      "provenance": [],
      "authorship_tag": "ABX9TyOZ++5+kxAguPvAWN3zcEey",
      "include_colab_link": true
    },
    "kernelspec": {
      "name": "python3",
      "display_name": "Python 3"
    },
    "language_info": {
      "name": "python"
    }
  },
  "cells": [
    {
      "cell_type": "markdown",
      "metadata": {
        "id": "view-in-github",
        "colab_type": "text"
      },
      "source": [
        "<a href=\"https://colab.research.google.com/github/emircanbacanak/crypto_recommendation/blob/main/crypto_recommendation.ipynb\" target=\"_parent\"><img src=\"https://colab.research.google.com/assets/colab-badge.svg\" alt=\"Open In Colab\"/></a>"
      ]
    },
    {
      "cell_type": "code",
      "source": [
        "pip install tulipy\n"
      ],
      "metadata": {
        "id": "6shq793bOcr-"
      },
      "execution_count": null,
      "outputs": []
    },
    {
      "cell_type": "code",
      "source": [
        "# @title Varsayılan başlık metni { run: \"auto\" }\n",
        "import pandas as pd\n",
        "import numpy as np\n",
        "import tulipy as ti\n",
        "import yfinance as yf\n",
        "from datetime import datetime\n",
        "\n",
        "# Veriyi indir\n",
        "start = \"2022-01-01\"\n",
        "end = datetime.now().strftime('%Y-%m-%d')  # Bugünün tarihini al\n",
        "data = yf.download([\"BTC-USD\"], start=start, end=end)\n",
        "\n",
        "# RSI hesapla\n",
        "rsi_period = 14\n",
        "rsi_values = ti.rsi(data['Close'].values, period=rsi_period)\n",
        "\n",
        "# RSI değerlerini bir pandas Serisi'ne dönüştür ve data['RSI'] sütununa ata\n",
        "data['RSI'] = pd.Series(rsi_values, index=data.index[-len(rsi_values):])\n",
        "\n",
        "# Al/Sat sinyallerini oluştur\n",
        "data['Buy_Signal'] = (data['RSI'] < 30)  # RSI 30'un altındaysa al\n",
        "data['Sell_Signal'] = (data['RSI'] > 70)  # RSI 70'in üzerindeyse sat\n",
        "\n",
        "# Sadece 'Buy_Signal' veya 'Sell_Signal' sütunları True olan satırları filtrele\n",
        "filtered_data = data[(data['Buy_Signal']) | (data['Sell_Signal'])]\n",
        "\n",
        "print(filtered_data)\n"
      ],
      "metadata": {
        "colab": {
          "base_uri": "https://localhost:8080/",
          "height": 436
        },
        "id": "SmooZdwPKTJc",
        "outputId": "e3fd0e03-6245-4ad4-a2e5-43bfd9287e3f"
      },
      "execution_count": null,
      "outputs": [
        {
          "output_type": "stream",
          "name": "stderr",
          "text": [
            "\r[*********************100%%**********************]  1 of 1 completed\n",
            "ERROR:yfinance:\n",
            "1 Failed download:\n",
            "ERROR:yfinance:['BTC-USD']: ValueError('unconverted data remains:  19:07:44')\n"
          ]
        },
        {
          "output_type": "error",
          "ename": "InvalidOptionError",
          "evalue": "",
          "traceback": [
            "\u001b[0;31m---------------------------------------------------------------------------\u001b[0m",
            "\u001b[0;31mInvalidOptionError\u001b[0m                        Traceback (most recent call last)",
            "\u001b[0;32m<ipython-input-70-13b30c7eb881>\u001b[0m in \u001b[0;36m<cell line: 15>\u001b[0;34m()\u001b[0m\n\u001b[1;32m     13\u001b[0m \u001b[0;31m# RSI hesapla\u001b[0m\u001b[0;34m\u001b[0m\u001b[0;34m\u001b[0m\u001b[0m\n\u001b[1;32m     14\u001b[0m \u001b[0mrsi_period\u001b[0m \u001b[0;34m=\u001b[0m \u001b[0;36m14\u001b[0m\u001b[0;34m\u001b[0m\u001b[0;34m\u001b[0m\u001b[0m\n\u001b[0;32m---> 15\u001b[0;31m \u001b[0mrsi_values\u001b[0m \u001b[0;34m=\u001b[0m \u001b[0mti\u001b[0m\u001b[0;34m.\u001b[0m\u001b[0mrsi\u001b[0m\u001b[0;34m(\u001b[0m\u001b[0mdata\u001b[0m\u001b[0;34m[\u001b[0m\u001b[0;34m'Close'\u001b[0m\u001b[0;34m]\u001b[0m\u001b[0;34m.\u001b[0m\u001b[0mvalues\u001b[0m\u001b[0;34m,\u001b[0m \u001b[0mperiod\u001b[0m\u001b[0;34m=\u001b[0m\u001b[0mrsi_period\u001b[0m\u001b[0;34m)\u001b[0m\u001b[0;34m\u001b[0m\u001b[0;34m\u001b[0m\u001b[0m\n\u001b[0m\u001b[1;32m     16\u001b[0m \u001b[0;34m\u001b[0m\u001b[0m\n\u001b[1;32m     17\u001b[0m \u001b[0;31m# RSI değerlerini bir pandas Serisi'ne dönüştür ve data['RSI'] sütununa ata\u001b[0m\u001b[0;34m\u001b[0m\u001b[0;34m\u001b[0m\u001b[0m\n",
            "\u001b[0;32m/usr/local/lib/python3.10/dist-packages/tulipy/__init__.py\u001b[0m in \u001b[0;36mrsi\u001b[0;34m(real, period)\u001b[0m\n\u001b[1;32m   1001\u001b[0m     \"\"\"\n\u001b[1;32m   1002\u001b[0m \u001b[0;34m\u001b[0m\u001b[0m\n\u001b[0;32m-> 1003\u001b[0;31m     \u001b[0;32mreturn\u001b[0m \u001b[0mlib\u001b[0m\u001b[0;34m.\u001b[0m\u001b[0mrsi\u001b[0m\u001b[0;34m(\u001b[0m\u001b[0;34m[\u001b[0m\u001b[0mreal\u001b[0m\u001b[0;34m]\u001b[0m\u001b[0;34m,\u001b[0m \u001b[0;34m[\u001b[0m\u001b[0mperiod\u001b[0m\u001b[0;34m]\u001b[0m\u001b[0;34m)\u001b[0m\u001b[0;34m\u001b[0m\u001b[0;34m\u001b[0m\u001b[0m\n\u001b[0m\u001b[1;32m   1004\u001b[0m \u001b[0;34m\u001b[0m\u001b[0m\n\u001b[1;32m   1005\u001b[0m \u001b[0mrsi\u001b[0m\u001b[0;34m.\u001b[0m\u001b[0mfull_name\u001b[0m \u001b[0;34m=\u001b[0m \u001b[0mlib\u001b[0m\u001b[0;34m.\u001b[0m\u001b[0mrsi\u001b[0m\u001b[0;34m.\u001b[0m\u001b[0mfull_name\u001b[0m\u001b[0;34m.\u001b[0m\u001b[0mdecode\u001b[0m\u001b[0;34m(\u001b[0m\u001b[0;34m)\u001b[0m\u001b[0;34m\u001b[0m\u001b[0;34m\u001b[0m\u001b[0m\n",
            "\u001b[0;32mtulipy/lib/__init__.pyx\u001b[0m in \u001b[0;36mtulipy.lib._Indicator.__call__\u001b[0;34m()\u001b[0m\n",
            "\u001b[0;31mInvalidOptionError\u001b[0m: "
          ]
        }
      ]
    }
  ]
}