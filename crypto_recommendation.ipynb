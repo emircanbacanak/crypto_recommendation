{
  "cells": [
    {
      "cell_type": "code",
      "execution_count": null,
      "metadata": {
        "id": "6shq793bOcr-"
      },
      "outputs": [],
      "source": [
        "!pip install tulipy\n",
        "!pip install pycoingecko\n",
        "!pip install pandas_ta\n",
        "!pip install python-binance\n",
        "!pip install ta\n"
      ]
    },
    {
      "cell_type": "markdown",
      "metadata": {
        "id": "45TU_BmE7hF5"
      },
      "source": [
        "# Import of necessary libraries"
      ]
    },
    {
      "cell_type": "code",
      "execution_count": 139,
      "metadata": {
        "id": "iPNBDF2f7nIQ"
      },
      "outputs": [],
      "source": [
        "import pandas as pd\n",
        "import pandas_ta as ta\n",
        "import numpy as np\n",
        "import tulipy as ti\n",
        "import csv\n",
        "import builtins\n",
        "import matplotlib.pyplot as plt\n",
        "import yfinance as yf\n",
        "import json\n",
        "import webbrowser\n",
        "from datetime import datetime, timedelta\n",
        "from binance import Client\n",
        "from jinja2 import Template\n",
        "import subprocess\n",
        "import ta\n",
        "from ta.momentum import RSIIndicator\n",
        "from ta.trend import ADXIndicator\n",
        "from ta.trend import SMAIndicator\n",
        "from ta.trend import MACD\n",
        "from ta.volatility import BollingerBands"
      ]
    },
    {
      "cell_type": "markdown",
      "metadata": {
        "id": "3cOFUh21P_UX"
      },
      "source": [
        "# Data extraction from Binance"
      ]
    },
    {
      "cell_type": "code",
      "execution_count": 140,
      "metadata": {
        "id": "j7jl40UEP9IE"
      },
      "outputs": [],
      "source": [
        "API_Key = \"QkGSZFlPppl7a5xc9qyUs8AGBr0gFLDc2XsWlGacTL73SoHf4UHZbk7gTZLNuj9p\"\n",
        "Secret_Key = \"gQmP0g7cnzYniHNZjZeIyX5uerTs13wBi16eGyjViFvntDgzjU7LqVOtKs7y7x1P\"\n",
        "client = Client(API_Key,Secret_Key,tld='us')"
      ]
    },
    {
      "cell_type": "markdown",
      "metadata": {
        "id": "PMmehpWxQFxk"
      },
      "source": [
        "# Receiving Binance data candles"
      ]
    },
    {
      "cell_type": "code",
      "execution_count": 141,
      "metadata": {
        "id": "oFnD5-J1QMFQ"
      },
      "outputs": [],
      "source": [
        "def GetData(symbol, period, start, end):\n",
        "  candles = client.get_historical_klines(symbol, period, start, end)\n",
        "  return candles"
      ]
    },
    {
      "cell_type": "markdown",
      "metadata": {
        "id": "YsAqlpmmQNbj"
      },
      "source": [
        "# Database creation"
      ]
    },
    {
      "cell_type": "code",
      "execution_count": 142,
      "metadata": {
        "id": "h9DvwztRQSQ5"
      },
      "outputs": [],
      "source": [
        "#Save to csv file\n",
        "def csvOlustur(symbol, candles):\n",
        "  csvFile = builtins.open(symbol + \".csv\", \"w\", newline='')\n",
        "  printer = csv.writer(csvFile, delimiter=',')\n",
        "  for candleData in candles:\n",
        "    printer.writerow(candleData)\n",
        "  csvFile.close()"
      ]
    },
    {
      "cell_type": "markdown",
      "metadata": {
        "id": "9N7dDsb4QSwf"
      },
      "source": [
        "# Retrieve data of entered symbols"
      ]
    },
    {
      "cell_type": "code",
      "execution_count": 143,
      "metadata": {
        "colab": {
          "base_uri": "https://localhost:8080/"
        },
        "id": "WKvhFeNXQd-E",
        "outputId": "38a8a3f8-ee5c-4768-f72b-74f0f53715d8"
      },
      "outputs": [
        {
          "name": "stdout",
          "output_type": "stream",
          "text": [
            "BTCUSDT csv dosyası oluşturuldu\n",
            "ETHUSDT csv dosyası oluşturuldu\n",
            "BNBUSDT csv dosyası oluşturuldu\n",
            "DOGEUSDT csv dosyası oluşturuldu\n",
            "ATOMUSDT csv dosyası oluşturuldu\n"
          ]
        }
      ],
      "source": [
        "symbolList = [\"BTCUSDT\", \"ETHUSDT\", \"BNBUSDT\", \"DOGEUSDT\",\"ATOMUSDT\"]\n",
        "def DataExtractionAndCsvCreation(symbolList):\n",
        "    for coin in symbolList:\n",
        "        csvOlustur(coin, GetData(coin, Client.KLINE_INTERVAL_1DAY, \"19 January 2023\", \"19 April 2024\"))\n",
        "        print(coin, \"csv file created\")\n",
        "DataExtractionAndCsvCreation(symbolList)\n"
      ]
    },
    {
      "cell_type": "markdown",
      "metadata": {
        "id": "tbk0q6jRQebb"
      },
      "source": [
        "# Write the Title of the data"
      ]
    },
    {
      "cell_type": "code",
      "execution_count": 144,
      "metadata": {
        "colab": {
          "base_uri": "https://localhost:8080/"
        },
        "id": "LBKe5E0rQg71",
        "outputId": "61cff4e2-e053-4e2f-d8a7-abb358f6d668"
      },
      "outputs": [
        {
          "name": "stdout",
          "output_type": "stream",
          "text": [
            "0      20677.13\n",
            "1      21080.05\n",
            "2      22675.01\n",
            "3      22783.64\n",
            "4      22710.87\n",
            "         ...   \n",
            "452    65826.97\n",
            "453    63380.58\n",
            "454    63806.00\n",
            "455    61350.59\n",
            "456    63447.69\n",
            "Name: Open, Length: 457, dtype: float64\n"
          ]
        }
      ],
      "source": [
        "readCsv = \"BTCUSDT.csv\"\n",
        "headlines = ['Open_time','Open','High','Low','Close','Volume','Close_time','Quote_asset_volume','Number_of_trades','Taker_buy_base_asset_volume','Taker_buy_quote_asset_volume','Ignore']\n",
        "df = pd.read_csv(readCsv,names=headlines)\n",
        "Open=df['Open']\n",
        "print(Open)"
      ]
    },
    {
      "cell_type": "markdown",
      "metadata": {
        "id": "6Svne2aMQlE4"
      },
      "source": [
        "# Making TimeStamp Data Readable"
      ]
    },
    {
      "cell_type": "code",
      "execution_count": 203,
      "metadata": {
        "colab": {
          "base_uri": "https://localhost:8080/"
        },
        "id": "XEZPZIXEQlv8",
        "outputId": "246c8c6a-8234-4613-82e6-1117804d5327"
      },
      "outputs": [
        {
          "name": "stdout",
          "output_type": "stream",
          "text": [
            "2024-03-30 19:00:00\n",
            "2024-03-30 20:00:00\n",
            "2024-03-30 21:00:00\n",
            "2024-03-30 22:00:00\n",
            "2024-03-30 23:00:00\n"
          ]
        }
      ],
      "source": [
        "\n",
        "def timeCalculate(timestamp):\n",
        "    return datetime.fromtimestamp(timestamp.timestamp())\n",
        "\n",
        "def timeWrite():\n",
        "    for time in Open_time[:5]:\n",
        "        print(timeCalculate(time))\n",
        "\n",
        "timeWrite()"
      ]
    },
    {
      "cell_type": "markdown",
      "metadata": {
        "id": "jdALRATEQp56"
      },
      "source": [
        "#Rsi calculation and variable definition"
      ]
    },
    {
      "cell_type": "code",
      "execution_count": 146,
      "metadata": {
        "colab": {
          "base_uri": "https://localhost:8080/"
        },
        "id": "93VV8wiJQqrJ",
        "outputId": "37a17ab9-9805-4b9d-beee-aca73940261a"
      },
      "outputs": [
        {
          "name": "stdout",
          "output_type": "stream",
          "text": [
            "0            NaN\n",
            "1            NaN\n",
            "2            NaN\n",
            "3            NaN\n",
            "4            NaN\n",
            "         ...    \n",
            "452    42.055725\n",
            "453    43.032891\n",
            "454    38.629413\n",
            "455    43.862566\n",
            "456    44.749538\n",
            "Name: rsi, Length: 457, dtype: float64\n"
          ]
        }
      ],
      "source": [
        "\n",
        "open = df['Open']\n",
        "close = df['Close']\n",
        "Open_time = df['Open_time']\n",
        "high = df['High']\n",
        "low = df['Low']\n",
        "\n",
        "Open_time = 14\n",
        "rsi_indicator = RSIIndicator(close=close, window=period)\n",
        "rsi = rsi_indicator.rsi()\n",
        "\n",
        "print(rsi)"
      ]
    },
    {
      "cell_type": "markdown",
      "metadata": {
        "id": "Cpyvdt8RQsuq"
      },
      "source": [
        "#Moving Medians (sma, adx)\n"
      ]
    },
    {
      "cell_type": "code",
      "execution_count": 147,
      "metadata": {
        "colab": {
          "base_uri": "https://localhost:8080/"
        },
        "id": "cjWIlYNyQzgC",
        "outputId": "9c6177d9-f7b4-4115-84f9-4300b729e431"
      },
      "outputs": [
        {
          "name": "stdout",
          "output_type": "stream",
          "text": [
            "0             NaN\n",
            "1             NaN\n",
            "2             NaN\n",
            "3             NaN\n",
            "4             NaN\n",
            "          ...    \n",
            "452    67007.7032\n",
            "453    67195.0892\n",
            "454    67279.5334\n",
            "455    67300.5316\n",
            "456    67354.8946\n",
            "Name: sma_50, Length: 457, dtype: float64\n"
          ]
        }
      ],
      "source": [
        "sma_indicator = SMAIndicator(close, window=50)\n",
        "sma_50 = sma_indicator.sma_indicator()\n",
        "print(sma_50)"
      ]
    },
    {
      "cell_type": "code",
      "execution_count": 148,
      "metadata": {
        "colab": {
          "base_uri": "https://localhost:8080/"
        },
        "id": "BMJkjMXTQ2BP",
        "outputId": "c1cc7289-6079-479e-9b77-4c4e27fc4b08"
      },
      "outputs": [
        {
          "name": "stdout",
          "output_type": "stream",
          "text": [
            "0       0.000000\n",
            "1       0.000000\n",
            "2       0.000000\n",
            "3       0.000000\n",
            "4       0.000000\n",
            "         ...    \n",
            "452    17.825873\n",
            "453    18.594031\n",
            "454    19.786650\n",
            "455    20.894082\n",
            "456    21.167109\n",
            "Name: adx, Length: 457, dtype: float64\n"
          ]
        }
      ],
      "source": [
        "adx_indicator = ADXIndicator(high, low, close, window=14) #window=period\n",
        "adx = adx_indicator.adx()\n",
        "\n",
        "print(adx)"
      ]
    },
    {
      "cell_type": "markdown",
      "metadata": {
        "id": "znZ7jGkFQ498"
      },
      "source": [
        "#Macd Calculation"
      ]
    },
    {
      "cell_type": "code",
      "execution_count": 149,
      "metadata": {
        "colab": {
          "base_uri": "https://localhost:8080/"
        },
        "id": "LPuu_k2FQ5ir",
        "outputId": "5cb935e4-54e2-4f3e-9c65-1c923f49d443"
      },
      "outputs": [
        {
          "name": "stdout",
          "output_type": "stream",
          "text": [
            "0             NaN\n",
            "1             NaN\n",
            "2             NaN\n",
            "3             NaN\n",
            "4             NaN\n",
            "          ...    \n",
            "452   -133.090377\n",
            "453   -387.271583\n",
            "454   -787.023678\n",
            "455   -917.819152\n",
            "456   -979.515786\n",
            "Name: MACD_12_26, Length: 457, dtype: float64\n"
          ]
        }
      ],
      "source": [
        "macd_indicator = MACD(close, window_slow=26, window_fast=12, window_sign=9)\n",
        "macd = macd_indicator.macd()\n",
        "\n",
        "print(macd)\n"
      ]
    },
    {
      "cell_type": "markdown",
      "metadata": {
        "id": "2QYsyM4FQ7TX"
      },
      "source": [
        "#Boolinger Band calculation\n"
      ]
    },
    {
      "cell_type": "code",
      "execution_count": 150,
      "metadata": {
        "colab": {
          "base_uri": "https://localhost:8080/"
        },
        "id": "aGTAyEv6Q_ED",
        "outputId": "9e7fbd10-c71c-4532-b0b3-08483f8926de"
      },
      "outputs": [
        {
          "name": "stdout",
          "output_type": "stream",
          "text": [
            "0             NaN\n",
            "1             NaN\n",
            "2             NaN\n",
            "3             NaN\n",
            "4             NaN\n",
            "          ...    \n",
            "452    68425.7555\n",
            "453    68146.8350\n",
            "454    67670.7170\n",
            "455    67351.3825\n",
            "456    67055.3975\n",
            "Name: mavg, Length: 457, dtype: float64\n"
          ]
        }
      ],
      "source": [
        "bb_indicator = BollingerBands(close, window=20, window_dev=2)\n",
        "bb = bb_indicator.bollinger_mavg()\n",
        "\n",
        "print(bb)"
      ]
    },
    {
      "cell_type": "markdown",
      "metadata": {
        "id": "ynaQ41PQRCNL"
      },
      "source": [
        "\n",
        "#Golden ve Dead Cross ile al sat (SMA50-SMA200)"
      ]
    },
    {
      "cell_type": "code",
      "execution_count": 151,
      "metadata": {
        "colab": {
          "base_uri": "https://localhost:8080/"
        },
        "id": "gB8-Z_L7RC0a",
        "outputId": "0a54075f-6e69-40f9-a7ff-a1ee752a5f06"
      },
      "outputs": [
        {
          "name": "stderr",
          "output_type": "stream",
          "text": [
            "\r[*********************100%%**********************]  1 of 1 completed"
          ]
        },
        {
          "name": "stdout",
          "output_type": "stream",
          "text": [
            "############################\n",
            "2024-04-21 02:00:00  tarihinde  0.001538879828934271  adet BTC alindi\n",
            "2024-04-26 07:00:00  tarihinde  0.001538879828934271  adet BTC satildi\n",
            "Bu iki işlem sonucunda işlem ederi : 99.1392852756792\n",
            "#####################################\n",
            "Toplam yapılan islem : 1.0\n",
            "Toplam verilen komisyon : 1.493544639567594\n",
            "Total cuzdan : 99.1392852756792\n"
          ]
        },
        {
          "name": "stderr",
          "output_type": "stream",
          "text": [
            "\n"
          ]
        }
      ],
      "source": [
        "# Get the data\n",
        "end = datetime.now().strftime('%Y-%m-%d')\n",
        "start = datetime.now() - pd.DateOffset(days=30)\n",
        "data = yf.download(\"BTC-USD\", start=start, end=end, interval=\"60m\")\n",
        "\n",
        "#Select required data\n",
        "close = data['Close']\n",
        "Open_time = data.index\n",
        "high = data['High']\n",
        "low = data['Low']\n",
        "\n",
        "def DCA():\n",
        "    wallet = 100\n",
        "    purchaseNumber = 0\n",
        "    saleNumber = 0\n",
        "    totalCoin = 0\n",
        "    CommissionRatio = 75/10000\n",
        "    givenCommission = 0\n",
        "\n",
        "    # Calculate 50 and 200 period simple moving averages\n",
        "    sma50 = close.rolling(window=50).mean()\n",
        "    sma200 = close.rolling(window=200).mean()\n",
        "\n",
        "    print(\"############################\")\n",
        "    for i in range(len(close)):\n",
        "        if not np.isnan(sma50[i]):\n",
        "            if sma50[i-1] < sma200[i-1] and sma50[i] > sma200[i]:  # up cut\n",
        "                print(timeCalculate(Open_time[i+1]),\" on the date \", wallet/close[i], \"BTC received\")\n",
        "                purchaseNumber += 1\n",
        "                totalCoin = wallet/close[i]\n",
        "                givenCommission+= CommissionRatio*wallet\n",
        "\n",
        "            # down cut\n",
        "            if sma50[i-1] > sma200[i-1] and sma50[i] < sma200[i] and purchaseNumber > 0:\n",
        "                print(timeCalculate(Open_time[i+1]),\" on the date \", totalCoin, \" BTC sold\")\n",
        "                saleNumber += 1\n",
        "                fiyat = close[i] * totalCoin\n",
        "                wallet = fiyat\n",
        "                totalCoin = 0\n",
        "                givenCommission += CommissionRatio*fiyat\n",
        "                print(f\"As a result of these two transactions, the transaction value : {wallet}\")\n",
        "                print(\"#####################################\")\n",
        "\n",
        "    print(f\"Total transactions : {(purchaseNumber+saleNumber)/2}\")\n",
        "    print(f\"Total commission paid : {givenCommission}\")\n",
        "    print(f\"Total wallet : {wallet}\")\n",
        "\n",
        "DCA()\n"
      ]
    },
    {
      "cell_type": "markdown",
      "metadata": {
        "id": "4cKYFkheRNBb"
      },
      "source": [
        "# Finding the best EMAD and the most profitable crypto based on moving average "
      ]
    },
    {
      "cell_type": "code",
      "execution_count": 152,
      "metadata": {
        "colab": {
          "base_uri": "https://localhost:8080/"
        },
        "id": "f46FmsC6R_B-",
        "outputId": "4ac2ef20-4f46-40c9-d7ec-fd1cac5ac3f8"
      },
      "outputs": [
        {
          "data": {
            "text/plain": [
              "[2.6313592933333334, 13, 59]"
            ]
          },
          "execution_count": 152,
          "metadata": {},
          "output_type": "execute_result"
        }
      ],
      "source": [
        "import pandas as pd\n",
        "\n",
        "def ema(data, period):\n",
        "    return data.ewm(span=period, adjust=False).mean()\n",
        "\n",
        "def DCA(symbol, short_period, long_period):\n",
        "    initial_investment = 50\n",
        "    buy_count = 0\n",
        "    total_BTC = 0\n",
        "    commission_rate = 75 / 10000\n",
        "    commission = 0\n",
        "\n",
        "    csv_name = symbol + '.csv'\n",
        "    attributes = [\"Open_time\", 'Open', 'High', 'Low', 'Close', 'Volume', '1', '2', '3', '4', '5', '6']\n",
        "    df = pd.read_csv(csv_name, names=attributes)\n",
        "    close_prices = df['Close']\n",
        "\n",
        "    short_ema = ema(df['Close'], period=short_period)\n",
        "    long_ema = ema(df['Close'], period=long_period)\n",
        "\n",
        "    for i in range(df.shape[0]):\n",
        "        if not pd.isna(short_ema[i]) and len(df) > 100 and i > 0:\n",
        "            if long_ema[i - 1] < short_ema[i - 1] and long_ema[i] > short_ema[i]:  # Buy signal: The long EMA cut the short EMA to the upside.\n",
        "                buy_count += 1\n",
        "                total_BTC += initial_investment / close_prices[i]\n",
        "                commission += commission_rate * initial_investment\n",
        "\n",
        "    try:\n",
        "        multiplier = (round(total_BTC, 4) * close_prices[len(close_prices) - 1] - commission) / (initial_investment * buy_count)\n",
        "    except ZeroDivisionError:\n",
        "        print(f\"{symbol} için hata var\")\n",
        "        return\n",
        "\n",
        "    total_profit = total_BTC * close_prices[len(close_prices) - 1] - (initial_investment * buy_count) - commission\n",
        "\n",
        "    '''print(\"How many times: ”, multiplier)\n",
        "    print(\"Total profit: ”, total_profit)\n",
        "    print(\"Total Commission: ”, commission)\n",
        "    print(\"---------------------------------------------------------------------------------\")'''\n",
        "    return [multiplier, short_period, long_period]\n",
        "\n",
        "DCA(\"BTCUSDT\", 13, 59)\n"
      ]
    },
    {
      "cell_type": "markdown",
      "metadata": {
        "id": "fDzqvW9hSDRj"
      },
      "source": [
        "#Code optimization (Best discovery points, Most profitable crypto, Best EMA) "
      ]
    },
    {
      "cell_type": "code",
      "execution_count": 153,
      "metadata": {
        "colab": {
          "base_uri": "https://localhost:8080/"
        },
        "id": "W53GW8RXSD1W",
        "outputId": "a20fb166-863e-4c02-c37c-84df9baa2f79"
      },
      "outputs": [
        {
          "name": "stdout",
          "output_type": "stream",
          "text": [
            "################################\n",
            "coin adı : BTCUSDT\n",
            "En iyi kazanç : 2.6313592933333334\n",
            "En iyi EMA iki kesişim : 13 , 59\n",
            "################################\n",
            "Maximum kazanç : 2.6313592933333334\n",
            "Maximum kazancı veren coin : BTCUSDT\n",
            "EMA kesişim verileri başarıyla 'ema_kesimler.csv' dosyasına kaydedildi.\n"
          ]
        }
      ],
      "source": [
        "def Optimization(symbolList):\n",
        "  rates=[]\n",
        "  #dcalar = []\n",
        "  totalrates=[]\n",
        "  #emaList=[]\n",
        "  longEmas=[]\n",
        "  shortEmas=[]\n",
        "  ema_cuts = []\n",
        "\n",
        "  for i in symbolList:\n",
        "    for x in range(2, 21):\n",
        "      for y in range(50, 61):\n",
        "        dcaFun = DCA(i, x, y)\n",
        "        rates.append(dcaFun[0])\n",
        "        longEmas.append(dcaFun[1])\n",
        "        shortEmas.append(dcaFun[2])\n",
        "        ema_cuts.append((dcaFun[1], dcaFun[2] , format(dcaFun[0], \".3f\")))\n",
        "\n",
        "    totalrates.append(max(rates))\n",
        "    print(\"################################\")\n",
        "    print(f\"coin name : {i}\")\n",
        "    print(f\"Best profit : {max(rates)}\")\n",
        "    print(f\"The best EMA is the intersection of two : {longEmas[rates.index(max(rates))]} , {shortEmas[rates.index(max(rates))]}\")\n",
        "\n",
        "    #print(f\"best win EMA EMA : {rates.index(max(rates))+2}\" )\n",
        "    #emaList.append(rates.index(max(rates))+2)\n",
        "    print(\"################################\")\n",
        "    rates.clear()\n",
        "\n",
        "  print(f\"Maximum profit : {max(totalrates)}\")\n",
        "  enCokKazandıranCoin = symbolList[totalrates.index(max(totalrates))]\n",
        "  print(f\"Maximum earning coin : {enCokKazandıranCoin}\")\n",
        "  kesisim_kaydet(ema_cuts)\n",
        "\n",
        "def kesisim_kaydet(ema_cuts):\n",
        "    df = pd.DataFrame(ema_cuts, columns=['EMA1', 'EMA2' ,'EMA3'])\n",
        "    df.to_csv('ema_cuts.csv', index=False)\n",
        "    print(\"EMA cuts data successfully saved in 'ema_cuts.csv' file.\")\n",
        "\n",
        "Optimization(['BTCUSDT'])"
      ]
    },
    {
      "cell_type": "markdown",
      "metadata": {
        "id": "3ESLZtDNUZZQ"
      },
      "source": [
        "# Reading intersection data"
      ]
    },
    {
      "cell_type": "code",
      "execution_count": 154,
      "metadata": {
        "colab": {
          "base_uri": "https://localhost:8080/"
        },
        "id": "QcZypHMQUdvt",
        "outputId": "cee3f609-5c9c-40cd-abd3-e7b8a4aba765"
      },
      "outputs": [
        {
          "name": "stdout",
          "output_type": "stream",
          "text": [
            "     EMA1  EMA2   EMA3\n",
            "0       2    50  2.210\n",
            "1       2    51  2.210\n",
            "2       2    52  2.202\n",
            "3       2    53  2.202\n",
            "4       2    54  2.186\n",
            "..    ...   ...    ...\n",
            "204    20    56  2.578\n",
            "205    20    57  2.578\n",
            "206    20    58  2.578\n",
            "207    20    59  2.578\n",
            "208    20    60  2.578\n",
            "\n",
            "[209 rows x 3 columns]\n"
          ]
        }
      ],
      "source": [
        "data = pd.read_csv('ema_cuts.csv')\n",
        "print(data)"
      ]
    },
    {
      "cell_type": "markdown",
      "metadata": {
        "id": "qeaN8qITUhD2"
      },
      "source": [
        "# Create as many nodes as incoming data and embed the javascript in html"
      ]
    },
    {
      "cell_type": "code",
      "execution_count": null,
      "metadata": {
        "id": "OpfzP2nEbzY2"
      },
      "outputs": [],
      "source": [
        "node = []\n",
        "Connections = []\n",
        "for i, row in data.iterrows():\n",
        "    # Process for each EMA column \n",
        "    for j, ema_column in enumerate(['EMA1', 'EMA2', 'EMA3']):\n",
        "        if j == 0 or j == 1:\n",
        "            radius = min(20, row[ema_column])\n",
        "        else:\n",
        "            radius = min(20, (row[ema_column] - row['EMA1']) + (row['EMA2'] - row[ema_column]))\n",
        "        radius = round(radius, 2)\n",
        "\n",
        "        # Create and add node data to the list \n",
        "        dugum = {\n",
        "            'id': f'node {i * 3 + j + 1}',\n",
        "            'group': 'Group',\n",
        "            'radius': radius,\n",
        "            'citing_patents_count': row[ema_column]\n",
        "        }\n",
        "        node.append(dugum)\n",
        "\n",
        "        # Create links for nodes other than the first node \n",
        "        if j > 0:\n",
        "            fark = abs(row[ema_column] - row[data.columns[j - 1]])\n",
        "            baglanti = {\n",
        "                'source': f'node {i * 3 + j}',\n",
        "                'target': f'node {i * 3 + j + 1}',\n",
        "                'value': round(fark / 10, 4)\n",
        "            }\n",
        "            Connections.append(baglanti)\n",
        "\n",
        "with open(\"data.json\", \"w\") as data_file:\n",
        "    json.dump({'nodes': node, 'links': Connections}, data_file)\n",
        "\n",
        "subprocess.run([\"python\", \"-m\", \"http.server\"])\n"
      ]
    },
    {
      "cell_type": "markdown",
      "metadata": {
        "id": "G-3sYneFUum3"
      },
      "source": [
        "# **html page **"
      ]
    },
    {
      "cell_type": "markdown",
      "metadata": {
        "id": "zOXHtxuvWUCX"
      },
      "source": [
        "\n",
        "\n",
        "```\n",
        "<!-- index.html -->\n",
        "<!DOCTYPE html>\n",
        "<html lang=\"en\">\n",
        "<head>\n",
        "  <meta charset=\"UTF-8\">\n",
        "  <meta name=\"viewport\" content=\"width=device-width, initial-scale=1.0\">\n",
        "  <title>D3.js Graph</title>\n",
        "  <script src=\"https://d3js.org/d3.v7.min.js\"></script>\n",
        "  <style>\n",
        "    svg {\n",
        "      max-width: 100%;\n",
        "      height: 100%;\n",
        "      background-color: black;\n",
        "    }\n",
        "    text {\n",
        "      fill: white;\n",
        "    }\n",
        "  </style>\n",
        "</head>\n",
        "<body>\n",
        "  <script>\n",
        "    const data = {\n",
        "      nodes: {{ nodes | safe }},\n",
        "      links: {{ links | safe }}\n",
        "    };\n",
        "\n",
        "    async function loadData() {\n",
        "      const width = window.innerWidth;\n",
        "      const height = window.innerHeight;\n",
        "      const color = d3.scaleOrdinal(d3.schemeCategory10);\n",
        "      const links = data.links.map(function(d) { return Object.assign({}, d); });\n",
        "      const nodes = data.nodes.map(function(d) { return Object.assign({}, d); });\n",
        "\n",
        "      const simulation = d3.forceSimulation(nodes)\n",
        "        .force(\"link\", d3.forceLink(links).id(function(d) { return d.id; }))\n",
        "        .force(\"charge\", d3.forceManyBody())\n",
        "        .force(\"x\", d3.forceX())\n",
        "        .force(\"y\", d3.forceY());\n",
        "\n",
        "      const svg = d3.create(\"svg\")\n",
        "        .attr(\"width\", width)\n",
        "        .attr(\"height\", height)\n",
        "        .attr(\"viewBox\", [-width / 2, -height / 2, width, height]);\n",
        "\n",
        "      const link = svg.append(\"g\")\n",
        "        .attr(\"stroke\", \"#f00\")\n",
        "        .attr(\"stroke-opacity\", 0.6)\n",
        "        .selectAll(\"line\")\n",
        "        .data(links)\n",
        "        .join(\"line\")\n",
        "        .attr(\"stroke-width\", function(d) { return Math.sqrt(d.value); });\n",
        "\n",
        "      const node = svg.append(\"g\")\n",
        "        .attr(\"stroke\", \"#fff\")\n",
        "        .attr(\"stroke-width\", 1.5)\n",
        "        .selectAll(\"g\")\n",
        "        .data(nodes)\n",
        "        .join(\"g\")\n",
        "        .attr(\"transform\", d => `translate(${d.x},${d.y})`);\n",
        "\n",
        "      node.append(\"circle\")\n",
        "        .attr(\"r\", d => d.radius * 1)\n",
        "        .attr(\"fill\", \"black\");\n",
        "\n",
        "      node.append(\"text\")\n",
        "        .attr(\"text-anchor\", \"middle\")\n",
        "        .attr(\"dominant-baseline\", \"middle\")\n",
        "        .attr(\"font-size\", \"10px\")\n",
        "        .attr(\"fill\", d => d.group === 'Group' ? 'red' : 'white')\n",
        "        .text(d => d.citing_patents_count);\n",
        "\n",
        "      node.call(d3.drag()\n",
        "        .on(\"start\", dragstarted)\n",
        "        .on(\"drag\", dragged)\n",
        "        .on(\"end\", dragended));\n",
        "\n",
        "      simulation.on(\"tick\", function() {\n",
        "        link\n",
        "          .attr(\"x1\", function(d) { return d.source.x; })\n",
        "          .attr(\"y1\", function(d) { return d.source.y; })\n",
        "          .attr(\"x2\", function(d) { return d.target.x; })\n",
        "          .attr(\"y2\", function(d) { return d.target.y; });\n",
        "\n",
        "        node\n",
        "          .attr(\"transform\", function(d) { return `translate(${d.x},${d.y})`; });\n",
        "      });\n",
        "\n",
        "      function dragstarted(event) {\n",
        "        if (!event.active) simulation.alphaTarget(0.3).restart();\n",
        "        event.subject.fx = event.subject.x;\n",
        "        event.subject.fy = event.subject.y;\n",
        "      }\n",
        "\n",
        "      function dragged(event) {\n",
        "        event.subject.fx = event.x;\n",
        "        event.subject.fy = event.y;\n",
        "      }\n",
        "\n",
        "      function dragended(event) {\n",
        "        if (!event.active) simulation.alphaTarget(0);\n",
        "        event.subject.fx = null;\n",
        "        event.subject.fy = null;\n",
        "      }\n",
        "\n",
        "      document.body.appendChild(svg.node());\n",
        "    }\n",
        "\n",
        "    window.onload = loadData;\n",
        "  </script>\n",
        "</body>\n",
        "</html>\n",
        "```\n",
        "\n"
      ]
    },
    {
      "cell_type": "markdown",
      "metadata": {
        "id": "7XULQn0ttdRl"
      },
      "source": [
        "# Generate intersection signals with MACD and calculate profit "
      ]
    },
    {
      "cell_type": "code",
      "execution_count": 204,
      "metadata": {
        "colab": {
          "base_uri": "https://localhost:8080/"
        },
        "id": "rPfO_29NXefq",
        "outputId": "93dd3937-5008-4611-d06a-9db78b4a4636"
      },
      "outputs": [
        {
          "name": "stdout",
          "output_type": "stream",
          "text": [
            "Kesişim ve kazanç verileri başarıyla 'kesisim_ve_kazanc.csv' dosyasına kaydedildi.\n"
          ]
        }
      ],
      "source": [
        "def MACD(symbol, short_period, long_period, signal_period):\n",
        "    transaction_per_dollar = 50\n",
        "    buy_number = 0\n",
        "    total_btc = 0\n",
        "    commission_rate = 75 / 10000\n",
        "    Commission = 0\n",
        "\n",
        "    csv_name = symbol + '.csv'\n",
        "    columns = [\"time\",'Open','Max','Min','Close','Volume','1','2','3','4','5','6']\n",
        "    df = pd.read_csv(csv_name, names=columns)\n",
        "    Closing = df['Close']\n",
        "\n",
        "    # Calculate the MACD line\n",
        "    macd_indicator = ta.trend.macd(df['Close'], window_fast=short_period, window_slow=long_period)\n",
        "    df['macd_line'] = macd_indicator\n",
        "\n",
        "    # Calculate signal line\n",
        "    sinyal_gostergesi = ta.trend.macd_signal(df['Close'], window_fast=short_period, window_slow=long_period, window_sign=signal_period)\n",
        "    df['signal_line'] = sinyal_gostergesi\n",
        "\n",
        "    # Find MACD intersections\n",
        "    crossings = np.where((df['macd_line'].shift(1) < df['signal_line'].shift(1)) & (df['macd_line'] > df['signal_line']), 1, 0)\n",
        "\n",
        "    # Check intersections and take action\n",
        "    intersections = []\n",
        "    for i in range(df.shape[0]):\n",
        "      if crossings[i] == 1 and len(df) > 100:\n",
        "        buy_number += 1\n",
        "        total_btc += transaction_per_dollar / Closing[i]\n",
        "        Commission += commission_rate * transaction_per_dollar\n",
        "\n",
        "        '''print(f\"Trade value: {df['Close'].iloc[i]}\")\n",
        "        print(\"Buy/Sell time:\", timeCalculate(df['time'].iloc[i]))\n",
        "        print(\"Buy/Sell price:\", df['Close'].iloc[i])'''\n",
        "\n",
        "        # Calculate how many times earnings and total earnings\n",
        "        try:\n",
        "          multiplier = (np.round(total_btc, 4) * Closing[len(Closing) - 1] - Commission) / (transaction_per_dollar * buy_number)\n",
        "        except:\n",
        "          print(f\"{symbol}'there's a bug\")\n",
        "\n",
        "        earnings = total_btc * Closing[len(Closing) - 1] - (transaction_per_dollar * buy_number) - Commission\n",
        "\n",
        "        ''' print(\"Multiplied by: \", multiplier)\n",
        "        print(\"Total earnings: \", earnings)\n",
        "        print(\"Toplam verilen Commission: \", Commission)\n",
        "        print(short_period, long_period, signal_period)\n",
        "        print(\"---------------------------------------------------------------------------------\")'''\n",
        "\n",
        "        intersections.append([short_period, long_period, signal_period, multiplier])\n",
        "\n",
        "    return intersections\n",
        "\n",
        "def Optimization(symbol_listesi):\n",
        "    intersections = []\n",
        "\n",
        "    for symbol in symbol_listesi:\n",
        "        for short_period in range(10, 21):\n",
        "            for long_period in range(50, 61):\n",
        "                for signal_period in range(9, 20):\n",
        "                    intersections.extend(MACD(symbol, short_period, long_period, signal_period))\n",
        "\n",
        "    # Let's create a DataFrame over the list of intersections\n",
        "    columns = [\"short_period\", \"long_period\", \"signal_period\", \"multiplier\"]\n",
        "    df = pd.DataFrame(intersections, columns=columns)\n",
        "\n",
        "    # Let's write it to a CSV file\n",
        "    df.to_csv('MACD_Section.csv', index=False)\n",
        "    print(\"Intersection and earnings data successfully saved in 'intersection_and_earnings.csv' file.\")\n",
        "\n",
        "Optimization(['BTCUSDT'])"
      ]
    }
  ],
  "metadata": {
    "colab": {
      "authorship_tag": "ABX9TyO+rIisUeepjrcPGhIwhAzJ",
      "mount_file_id": "https://gist.github.com/emircanbacanak/c03804b62eb044728e074db7b2cea9f7#file-crypto-recommendation-ipynb",
      "provenance": []
    },
    "kernelspec": {
      "display_name": "Python 3",
      "name": "python3"
    },
    "language_info": {
      "name": "python"
    }
  },
  "nbformat": 4,
  "nbformat_minor": 0
}
